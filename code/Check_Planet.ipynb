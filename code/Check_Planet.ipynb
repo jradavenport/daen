{
 "cells": [
  {
   "cell_type": "markdown",
   "metadata": {},
   "source": [
    "lets pull the latest catalog of exoplanets from https://exoplanetarchive.ipac.caltech.edu/index.html\n",
    "\n",
    "compare them to the various novae/SN lists we might come up with\n",
    "\n",
    "check: are any of these exoplanets close to an ellipsoid edge? (maybe with a couple years?)"
   ]
  },
  {
   "cell_type": "code",
   "execution_count": 1,
   "metadata": {},
   "outputs": [],
   "source": [
    "%matplotlib inline\n",
    "import numpy as np\n",
    "import pandas as pd\n",
    "import matplotlib.pyplot as plt\n",
    "\n",
    "from astropy.coordinates import SkyCoord\n",
    "from astropy import units as u\n",
    "from astropy.time import Time\n",
    "from astropy import constants as const\n",
    "import astropy.coordinates as coord\n",
    "from astropy.table import Table"
   ]
  },
  {
   "cell_type": "code",
   "execution_count": 2,
   "metadata": {},
   "outputs": [],
   "source": [
    "import matplotlib\n",
    "matplotlib.rcParams.update({'font.size':18})\n",
    "matplotlib.rcParams.update({'font.family':'serif'})"
   ]
  },
  {
   "cell_type": "code",
   "execution_count": 35,
   "metadata": {},
   "outputs": [
    {
     "data": {
      "text/plain": [
       "(29387, 100)"
      ]
     },
     "execution_count": 35,
     "metadata": {},
     "output_type": "execute_result"
    }
   ],
   "source": [
    "# Pfile = 'PS_2021.04.13_12.25.05.csv'\n",
    "# planetary systems table:\n",
    "# https://exoplanetarchive.ipac.caltech.edu/cgi-bin/TblView/nph-tblView?app=ExoTbls&config=PS&constraint=default_flag=1\n",
    "Pfile = 'PS_2021.04.19_17.09.05.csv'\n",
    "\n",
    "df = pd.read_csv(Pfile, comment='#')\n",
    "\n",
    "df.shape"
   ]
  },
  {
   "cell_type": "code",
   "execution_count": 36,
   "metadata": {},
   "outputs": [
    {
     "data": {
      "text/plain": [
       "(2645, 87)"
      ]
     },
     "execution_count": 36,
     "metadata": {},
     "output_type": "execute_result"
    }
   ],
   "source": [
    "# TESS project candidates\n",
    "# https://exoplanetarchive.ipac.caltech.edu/cgi-bin/TblView/nph-tblView?app=ExoTbls&config=TOI\n",
    "Tfile = 'TOI_2021.04.19_17.09.56.csv'\n",
    "dfT = pd.read_csv(Tfile, comment='#')\n",
    "\n",
    "dfT.shape"
   ]
  },
  {
   "cell_type": "code",
   "execution_count": 55,
   "metadata": {},
   "outputs": [],
   "source": [
    "# dfT['st_dist']\n",
    "# okT = np.isfinite(dfT['st_dist'] )\n",
    "# plt.scatter(dfT['ra'][okT], dfT['dec'][okT],s=10, alpha=0.5)\n",
    "# sum(okT)"
   ]
  },
  {
   "cell_type": "code",
   "execution_count": 56,
   "metadata": {},
   "outputs": [],
   "source": [
    "# dfT['tid'][okT].unique().size"
   ]
  },
  {
   "cell_type": "code",
   "execution_count": 54,
   "metadata": {},
   "outputs": [],
   "source": [
    "# dfT.columns\n",
    "\n",
    "# df['soltype'].unique()"
   ]
  },
  {
   "cell_type": "code",
   "execution_count": 57,
   "metadata": {},
   "outputs": [],
   "source": [
    "# how many unique star systems can we explore?\n",
    "# df['gaia_id'].unique().size"
   ]
  },
  {
   "cell_type": "code",
   "execution_count": 58,
   "metadata": {},
   "outputs": [],
   "source": [
    "# how many unique star systems with good distances?\n",
    "# df['gaia_id'][np.isfinite(df['sy_dist'])].unique().size"
   ]
  },
  {
   "cell_type": "code",
   "execution_count": 63,
   "metadata": {},
   "outputs": [
    {
     "name": "stdout",
     "output_type": "stream",
     "text": [
      "3041 2482\n"
     ]
    }
   ],
   "source": [
    "# use Pandas GroupBy & First to select only unique Gaia IDs (the first entries)\n",
    "stars1 = df.groupby('gaia_id',as_index=False).first()\n",
    "\n",
    "stars2 = dfT.groupby('tid',as_index=False).first()\n",
    "\n",
    "print(sum(np.isfinite(stars1['sy_dist'])), \n",
    "      sum(np.isfinite(stars2['st_dist'])))"
   ]
  },
  {
   "cell_type": "markdown",
   "metadata": {},
   "source": [
    "so this is actually the first real workflow shakedown! Real stars + real sources!\n",
    "\n",
    "1. Prep Sources (Novae)\n",
    "- read in list(s)\n",
    "- put into same structures for matching\n",
    "\n",
    "2. Prep the Stars:\n",
    "- put ra,dec,dist into 3D SkyCoord object w/ units\n",
    "- Time into astropy.Time object w/ units\n",
    "\n",
    "\n",
    "3. Compute the Ellipse Positions\n",
    "- full 3D distances, thank you astropy for doing this \n",
    "- then dsitances math from before... need to name this step better\n"
   ]
  },
  {
   "cell_type": "code",
   "execution_count": 73,
   "metadata": {},
   "outputs": [
    {
     "name": "stderr",
     "output_type": "stream",
     "text": [
      "WARNING: ErfaWarning: ERFA function \"dtf2d\" yielded 105 of \"dubious year (Note 6)\" [astropy._erfa.core]\n"
     ]
    }
   ],
   "source": [
    "# 1.\n",
    "def make_objects(ra,dec,dist, Y, M, D):\n",
    "    cc = SkyCoord(ra=ra, dec=dec, distance=dist)\n",
    "\n",
    "    tt = Time({'year':Y, 'month':M, 'day':D}, \n",
    "              format='ymdhms')\n",
    "\n",
    "    return cc,tt\n",
    "\n",
    "def pull_sources(file='SOURCES_20210419.csv'):\n",
    "    '''\n",
    "    A simple wrapper to pull the \"sources\", aka the novae/SNe/original\n",
    "    events as WE observed them, and put them into astropy structures.\n",
    "    \n",
    "    TO DO: sure wish we had errors, esp. on distance...\n",
    "    '''\n",
    "    src = pd.read_csv(file)\n",
    "\n",
    "    cc, tt = make_objects(src['RA'].values*u.deg, \n",
    "                          src['Dec'].values*u.deg, \n",
    "                          src['dist'].values*u.pc, \n",
    "                          src['year'].astype('int').values, \n",
    "                          src['month'].astype('int').values, \n",
    "                          src['day'].astype('int').values)\n",
    "    return cc, tt\n",
    "\n",
    "cc_S, tt_S = pull_sources() # the event \"sources\""
   ]
  },
  {
   "cell_type": "code",
   "execution_count": 74,
   "metadata": {},
   "outputs": [],
   "source": [
    "# 2.\n",
    "Sok1 = np.where(np.isfinite(stars1['sy_dist']))[0]\n",
    "Sok2 = np.where(np.isfinite(stars2['st_dist']))[0]\n",
    "\n",
    "# Coordinates for the stars/objects to monitor\n",
    "cc_O = SkyCoord(ra=np.concatenate((stars1['ra'][Sok1].values, \n",
    "                                   stars2['ra'][Sok2].values)) * u.deg, \n",
    "                dec=np.concatenate((stars1['dec'][Sok1].values,\n",
    "                                    stars2['dec'][Sok2].values)) * u.deg, \n",
    "                distance=np.concatenate((stars1['sy_dist'][Sok1].values,\n",
    "                                         stars2['st_dist'][Sok2].values)) * u.pc)\n",
    "\n",
    "# Times are... whatever we decide to observe over!\n",
    "# * in the case of the ZTF \"stream\" they are the alert times, and match\n",
    "#   1-to-1 with the coordinates\n",
    "#\n",
    "# * in the case of TESS data they might be the start/stop times of Sectors\n",
    "#   that each source was oberved in (e.g. from the Web Viewing Tool)\n",
    "#   https://heasarc.gsfc.nasa.gov/cgi-bin/tess/webtess/wtv.py\n",
    "#\n",
    "# * in the case of a proposal... let's just do 1 datapoint per year right now,\n",
    "#   since that == 1 Lyr of distance within the SETI Ellipsoid\n",
    "\n",
    "# tt_0 = Time( {'year':np.zeros(len(tt_0)) + 2021, \n",
    "#               'month':np.zeros(len(tt_0)) + 1, \n",
    "#               'day':np.zeros(len(tt_0)) + 1}, format='ymdhms')"
   ]
  },
  {
   "cell_type": "code",
   "execution_count": 79,
   "metadata": {},
   "outputs": [
    {
     "data": {
      "text/plain": [
       "5523"
      ]
     },
     "execution_count": 79,
     "metadata": {},
     "output_type": "execute_result"
    }
   ],
   "source": [
    "j = 2019\n",
    "tt_0 = Time( {'year':np.zeros(len(cc_O), dtype=np.int) + j, \n",
    "              'month':np.zeros(len(cc_O), dtype=np.int) + 1, \n",
    "              'day':np.zeros(len(cc_O), dtype=np.int) + 1}, format='ymdhms')\n",
    "len(cc_O)\n"
   ]
  },
  {
   "cell_type": "code",
   "execution_count": 102,
   "metadata": {
    "scrolled": false
   },
   "outputs": [
    {
     "name": "stdout",
     "output_type": "stream",
     "text": [
      "yr <0.07lyr <0.1lyr <1lyr\n",
      "SN1987A, <0.07lyr:  2\n",
      "2019 197 281 2932\n",
      "SN1987A, <0.07lyr:  1\n",
      "2020 210 295 2912\n",
      "SN1987A, <0.07lyr:  0\n",
      "2021 232 341 3056\n",
      "SN1987A, <0.07lyr:  1\n",
      "2022 198 286 2997\n",
      "SN1987A, <0.07lyr:  2\n",
      "2023 218 310 3007\n",
      "SN1987A, <0.07lyr:  2\n",
      "2024 197 281 3103\n"
     ]
    }
   ],
   "source": [
    "# 3.\n",
    "\n",
    "etol = 1. # ellipse tolerance (in lyr) (1 year for now... )\n",
    "print('yr', '<0.07lyr', '<0.1lyr', '<1lyr')\n",
    "# try a few years, just for an example\n",
    "for j in (range(2019,2025)):\n",
    "    tt_0 = Time( {'year':np.zeros(len(cc_O), dtype=np.int) + j, \n",
    "                  'month':np.zeros(len(cc_O), dtype=np.int) + 1, \n",
    "                  'day':np.zeros(len(cc_O), dtype=np.int) + 1}, format='ymdhms')\n",
    "\n",
    "    # the smaller list is the novae/sources... \n",
    "    # loop over each Source, compute the ellipsoid distance to each star\n",
    "    look1 = 0\n",
    "    look2 = 0\n",
    "    look3 = 0\n",
    "\n",
    "    for k in range(tt_S.size):\n",
    "        # time diff from Source[k] to all Stars/Objects\n",
    "        # should be positive, for Novae in the past\n",
    "        dt = tt_0 - tt_S[k]\n",
    "\n",
    "        c = cc_S[k].distance.to('lyr') / 2 # the Source[k] foci distance\n",
    "        a = (((dt.to('s') * const.c) / 2) + c).to('lyr') # the semi-major axis of Source[k] ellipse\n",
    "        d2 = cc_O.separation_3d(cc_S[k]) # 3D dist between Source[k] and the Stars/Objects\n",
    "\n",
    "        # the ellipsoid surface distance\n",
    "        Edist = (cc_O.distance.to('lyr').value + d2.to('lyr').value) - (2 * a.to('lyr').value)\n",
    "\n",
    "        # we should LOOK at sources if they are near the ellipsoid edges\n",
    "        # (and if they have positive dt)\n",
    "        look = (np.abs(Edist) < etol)  & (dt > 0)\n",
    "        look1 += sum((np.abs(Edist) < 0.07)  & (dt > 0))\n",
    "        look2 += sum((np.abs(Edist) < 0.1)  & (dt > 0))\n",
    "        look3 += sum((np.abs(Edist) < 1.0)  & (dt > 0))\n",
    "\n",
    "        # print the SN1987A results for each year\n",
    "        if (tt_S[k].value[0] == 1987) & (tt_S[k].value[1] == 2):\n",
    "            print('SN1987A, <0.07lyr: ', sum((np.abs(Edist) < 0.07)  & (dt > 0)))\n",
    "            \n",
    "    #     print(k, tt_S[k], sum(look))\n",
    "    print(j, look1, look2, look3)"
   ]
  },
  {
   "cell_type": "code",
   "execution_count": null,
   "metadata": {},
   "outputs": [],
   "source": []
  }
 ],
 "metadata": {
  "kernelspec": {
   "display_name": "Python 3",
   "language": "python",
   "name": "python3"
  },
  "language_info": {
   "codemirror_mode": {
    "name": "ipython",
    "version": 3
   },
   "file_extension": ".py",
   "mimetype": "text/x-python",
   "name": "python",
   "nbconvert_exporter": "python",
   "pygments_lexer": "ipython3",
   "version": "3.8.5"
  }
 },
 "nbformat": 4,
 "nbformat_minor": 4
}
