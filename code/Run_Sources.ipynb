{
 "cells": [
  {
   "cell_type": "code",
   "execution_count": 2,
   "id": "e44fbb21",
   "metadata": {},
   "outputs": [],
   "source": [
    "%matplotlib inline\n",
    "import numpy as np\n",
    "import pandas as pd\n",
    "import matplotlib.pyplot as plt\n",
    "\n",
    "from astropy.coordinates import SkyCoord\n",
    "from astropy import units as u\n",
    "from astropy.time import Time\n",
    "from astropy import constants as const\n",
    "import astropy.coordinates as coord\n",
    "from astropy.table import Table"
   ]
  },
  {
   "cell_type": "code",
   "execution_count": 3,
   "id": "b1e54512",
   "metadata": {},
   "outputs": [],
   "source": [
    "# setting some plotting style stuff for my taste\n",
    "import matplotlib\n",
    "matplotlib.rcParams.update({'font.size':18})\n",
    "matplotlib.rcParams.update({'font.family':'serif'})"
   ]
  },
  {
   "cell_type": "code",
   "execution_count": 5,
   "id": "7a6f306f",
   "metadata": {},
   "outputs": [],
   "source": [
    "# lists of systems to explore (exoplanets here), what we really want is (ra,dec,dist) from these\n",
    "\n",
    "# planetary systems table:\n",
    "# https://exoplanetarchive.ipac.caltech.edu/cgi-bin/TblView/nph-tblView?app=ExoTbls&config=PS&constraint=default_flag=1\n",
    "Pfile = 'PS_2021.04.19_17.09.05.csv'\n",
    "df = pd.read_csv(Pfile, comment='#')\n",
    "\n",
    "# TESS project candidates\n",
    "# https://exoplanetarchive.ipac.caltech.edu/cgi-bin/TblView/nph-tblView?app=ExoTbls&config=TOI\n",
    "Tfile = 'TOI_2021.04.19_17.09.56.csv'\n",
    "dfT = pd.read_csv(Tfile, comment='#')\n",
    "\n",
    "# clean these lists...\n",
    "# use Pandas GroupBy & First to select only unique Gaia IDs (the first entries)\n",
    "stars1 = df.groupby('gaia_id',as_index=False).first()\n",
    "stars2 = dfT.groupby('tid',as_index=False).first()"
   ]
  },
  {
   "cell_type": "markdown",
   "id": "b51cf536",
   "metadata": {},
   "source": [
    "### workflow shakedown\n",
    "\n",
    "1. Prep Sources (Novae)\n",
    "- read in list(s)\n",
    "- put into same structures for matching\n",
    "\n",
    "2. Prep the Stars:\n",
    "- put ra,dec,dist into 3D SkyCoord object w/ units\n",
    "- Time into astropy.Time object w/ units\n",
    "\n",
    "\n",
    "3. Compute the Ellipse Positions\n",
    "- full 3D distances, thank you astropy for doing this \n",
    "- then dsitances math from before... need to name this step better\n",
    "\n"
   ]
  },
  {
   "cell_type": "code",
   "execution_count": 6,
   "id": "6e10d993",
   "metadata": {},
   "outputs": [
    {
     "name": "stderr",
     "output_type": "stream",
     "text": [
      "/Users/james/opt/anaconda3/lib/python3.8/site-packages/erfa/core.py:154: ErfaWarning: ERFA function \"dtf2d\" yielded 105 of \"dubious year (Note 6)\"\n",
      "  warnings.warn('ERFA function \"{}\" yielded {}'.format(func_name, wmsg),\n"
     ]
    }
   ],
   "source": [
    "# 1.\n",
    "def make_objects(ra,dec,dist, Y, M, D):\n",
    "    cc = SkyCoord(ra=ra, dec=dec, distance=dist)\n",
    "\n",
    "    tt = Time({'year':Y, 'month':M, 'day':D}, \n",
    "              format='ymdhms')\n",
    "\n",
    "    return cc,tt\n",
    "\n",
    "def pull_sources(file='SOURCES_20210419.csv'):\n",
    "    '''\n",
    "    A simple wrapper to pull the \"sources\", aka the novae/SNe/original\n",
    "    events as WE observed them, and put them into astropy structures.\n",
    "    \n",
    "    TO DO: sure wish we had errors, esp. on distance...\n",
    "    '''\n",
    "    src = pd.read_csv(file)\n",
    "\n",
    "    cc, tt = make_objects(src['RA'].values*u.deg, \n",
    "                          src['Dec'].values*u.deg, \n",
    "                          src['dist'].values*u.pc, \n",
    "                          src['year'].astype('int').values, \n",
    "                          src['month'].astype('int').values, \n",
    "                          src['day'].astype('int').values)\n",
    "    return cc, tt\n",
    "\n",
    "cc_S, tt_S = pull_sources() # the event \"sources\""
   ]
  },
  {
   "cell_type": "code",
   "execution_count": 7,
   "id": "b10871b7",
   "metadata": {},
   "outputs": [],
   "source": [
    "# 2.\n",
    "Sok1 = np.where(np.isfinite(stars1['sy_dist']))[0]\n",
    "Sok2 = np.where(np.isfinite(stars2['st_dist']))[0]\n",
    "\n",
    "# Coordinates for the stars/objects to monitor\n",
    "cc_O = SkyCoord(ra=np.concatenate((stars1['ra'][Sok1].values, \n",
    "                                   stars2['ra'][Sok2].values)) * u.deg, \n",
    "                dec=np.concatenate((stars1['dec'][Sok1].values,\n",
    "                                    stars2['dec'][Sok2].values)) * u.deg, \n",
    "                distance=np.concatenate((stars1['sy_dist'][Sok1].values,\n",
    "                                         stars2['st_dist'][Sok2].values)) * u.pc)\n"
   ]
  },
  {
   "cell_type": "code",
   "execution_count": 8,
   "id": "453751ca",
   "metadata": {},
   "outputs": [
    {
     "name": "stdout",
     "output_type": "stream",
     "text": [
      "yr <0.07lyr <0.1lyr <1lyr\n"
     ]
    },
    {
     "name": "stderr",
     "output_type": "stream",
     "text": [
      "/Users/james/opt/anaconda3/lib/python3.8/site-packages/erfa/core.py:154: ErfaWarning: ERFA function \"utctai\" yielded 1 of \"dubious year (Note 3)\"\n",
      "  warnings.warn('ERFA function \"{}\" yielded {}'.format(func_name, wmsg),\n",
      "/Users/james/opt/anaconda3/lib/python3.8/site-packages/erfa/core.py:154: ErfaWarning: ERFA function \"d2dtf\" yielded 1 of \"dubious year (Note 5)\"\n",
      "  warnings.warn('ERFA function \"{}\" yielded {}'.format(func_name, wmsg),\n"
     ]
    },
    {
     "name": "stdout",
     "output_type": "stream",
     "text": [
      "SN1987A, <0.07lyr:  2\n",
      "2019 21\n",
      "\n",
      "SN1987A, <0.07lyr:  1\n",
      "2020 20\n",
      "\n",
      "SN1987A, <0.07lyr:  0\n",
      "2021 17\n",
      "\n",
      "SN1987A, <0.07lyr:  1\n",
      "2022 15\n",
      "\n"
     ]
    }
   ],
   "source": [
    "# 3.\n",
    "\n",
    "etol = 1. # ellipse tolerance (in lyr) (1 year for now... )\n",
    "print('yr', '<0.07lyr', '<0.1lyr', '<1lyr')\n",
    "\n",
    "# try a few years, just for this example\n",
    "for j in (range(2019,2023)):\n",
    "    # create time object for year \"j\", set to Jan 1\n",
    "    tt_0 = Time( {'year':np.zeros(len(cc_O), dtype=int) + j, \n",
    "                  'month':np.zeros(len(cc_O), dtype=int) + 1, \n",
    "                  'day':np.zeros(len(cc_O), dtype=int) + 1}, format='ymdhms')\n",
    "\n",
    "    # the smaller list is the novae/sources... \n",
    "    # loop over each Source, compute the ellipsoid distance to each star\n",
    "    for k in range(tt_S.size):\n",
    "        # time diff from Source[k] to all Stars/Objects\n",
    "        # should be positive, for Novae in the past\n",
    "        dt = tt_0 - tt_S[k]\n",
    "\n",
    "        c = cc_S[k].distance.to('lyr') / 2 # the Source[k] foci distance\n",
    "        a = (((dt.to('s') * const.c) / 2) + c).to('lyr') # the semi-major axis of Source[k] ellipse\n",
    "        d2 = cc_O.separation_3d(cc_S[k]) # 3D dist between Source[k] and the Stars/Objects\n",
    "\n",
    "        # the ellipsoid surface distance\n",
    "        Edist = (cc_O.distance.to('lyr').value + d2.to('lyr').value) - (2 * a.to('lyr').value)\n",
    "\n",
    "        # we should LOOK at sources if they are near the ellipsoid edges\n",
    "        # (and if they have positive dt)\n",
    "        look = (np.abs(Edist) < etol)  & (dt > 0)\n",
    "\n",
    "        # print the SN1987A results for each year\n",
    "        if (tt_S[k].value[0] == 1987) & (tt_S[k].value[1] == 2):\n",
    "            print('SN1987A, <0.07lyr: ', sum((np.abs(Edist) < 0.1)  & (dt > 0)))\n",
    "            \n",
    "    print(j, sum(look))\n",
    "    print('')"
   ]
  },
  {
   "cell_type": "code",
   "execution_count": null,
   "id": "c4ef4330",
   "metadata": {},
   "outputs": [],
   "source": []
  }
 ],
 "metadata": {
  "kernelspec": {
   "display_name": "Python 3",
   "language": "python",
   "name": "python3"
  },
  "language_info": {
   "codemirror_mode": {
    "name": "ipython",
    "version": 3
   },
   "file_extension": ".py",
   "mimetype": "text/x-python",
   "name": "python",
   "nbconvert_exporter": "python",
   "pygments_lexer": "ipython3",
   "version": "3.8.5"
  }
 },
 "nbformat": 4,
 "nbformat_minor": 5
}
