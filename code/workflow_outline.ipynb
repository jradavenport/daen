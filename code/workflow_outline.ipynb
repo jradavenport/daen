{
 "cells": [
  {
   "cell_type": "code",
   "execution_count": 1,
   "metadata": {},
   "outputs": [],
   "source": [
    "%matplotlib inline\n",
    "import numpy as np\n",
    "import pandas as pd\n",
    "import matplotlib.pyplot as plt"
   ]
  },
  {
   "cell_type": "code",
   "execution_count": 2,
   "metadata": {},
   "outputs": [],
   "source": [
    "import matplotlib\n",
    "matplotlib.rcParams.update({'font.size':18})\n",
    "matplotlib.rcParams.update({'font.family':'serif'})"
   ]
  },
  {
   "cell_type": "code",
   "execution_count": 3,
   "metadata": {},
   "outputs": [],
   "source": [
    "from astropy.coordinates import SkyCoord\n",
    "from astropy import units as u\n",
    "from astropy.time import Time\n",
    "from astropy import constants as const"
   ]
  },
  {
   "cell_type": "markdown",
   "metadata": {},
   "source": [
    "# FAKE SOURCE EVENTS\n",
    "Generate a population of fake events across the sky, novae and SNe, from the past ~2000years"
   ]
  },
  {
   "cell_type": "code",
   "execution_count": 4,
   "metadata": {
    "scrolled": false
   },
   "outputs": [
    {
     "name": "stderr",
     "output_type": "stream",
     "text": [
      "WARNING: ErfaWarning: ERFA function \"dtf2d\" yielded 25 of \"dubious year (Note 6)\" [astropy._erfa.core]\n",
      "WARNING: ErfaWarning: ERFA function \"dtf2d\" yielded 24 of \"dubious year (Note 6)\" [astropy._erfa.core]\n",
      "WARNING: ErfaWarning: ERFA function \"utctai\" yielded 24 of \"dubious year (Note 3)\" [astropy._erfa.core]\n",
      "WARNING: ErfaWarning: ERFA function \"utctai\" yielded 25 of \"dubious year (Note 3)\" [astropy._erfa.core]\n",
      "WARNING: ErfaWarning: ERFA function \"taiutc\" yielded 25 of \"dubious year (Note 4)\" [astropy._erfa.core]\n"
     ]
    },
    {
     "data": {
      "image/png": "[encoded data removed]",
      "text/plain": [
       "<Figure size 432x288 with 1 Axes>"
      ]
     },
     "metadata": {
      "needs_background": "light"
     },
     "output_type": "display_data"
    },
    {
     "name": "stderr",
     "output_type": "stream",
     "text": [
      "WARNING: ErfaWarning: ERFA function \"d2dtf\" yielded 25 of \"dubious year (Note 5)\" [astropy._erfa.core]\n"
     ]
    },
    {
     "data": {
      "image/png": "[encoded data removed]",
      "text/plain": [
       "<Figure size 360x216 with 1 Axes>"
      ]
     },
     "metadata": {
      "needs_background": "light"
     },
     "output_type": "display_data"
    },
    {
     "name": "stdout",
     "output_type": "stream",
     "text": [
      "2015.688840434376\n"
     ]
    }
   ],
   "source": [
    "import astropy.coordinates as coord\n",
    "\n",
    "Nfake = 50\n",
    "ll = np.random.uniform(low=0., high=360., size=Nfake) * u.deg\n",
    "\n",
    "# make a band of random events along the galactic plane (novae?)\n",
    "bb1 = np.random.normal(loc=0., scale=10., size=Nfake - 10) * u.deg\n",
    "# and a few other events across the sky (SNe)\n",
    "bb2 = np.random.uniform(low=-90, high=90, size=10) * u.deg\n",
    "bb = np.concatenate((bb1,bb2))\n",
    "\n",
    "# put the band of novae at close-ish distances, SNe more spread out in MWY\n",
    "dd1 = np.random.uniform(low=500,high=5500,size=Nfake-10) * u.pc\n",
    "dd2 = np.random.uniform(low=2500,high=40000,size=10) * u.pc\n",
    "dd = np.concatenate((dd1,dd2))\n",
    "\n",
    "# put novae across time in past 80yrs, SNe over past ~2000yrs\n",
    "tt1 = np.random.uniform(low=1940, high=2018,size=Nfake-10)\n",
    "tt2 = np.random.uniform(low=300,high=2018, size=10)\n",
    "tt = Time(np.concatenate((tt1,tt2)), format='decimalyear')\n",
    "\n",
    "# combine coordinates & distance, convert to RA,Dec for observing\n",
    "c1 = SkyCoord(l=ll, b=bb, frame='galactic', distance=dd)\n",
    "radec = c1.transform_to(coord.FK5)\n",
    "\n",
    "plt.figure()\n",
    "plt.scatter(radec.ra[:-10], radec.dec[:-10])\n",
    "plt.scatter(radec.ra[-10:], radec.dec[-10:])\n",
    "plt.xlabel('RA (deg)')\n",
    "plt.ylabel('Dec (deg)')\n",
    "plt.show()\n",
    "\n",
    "plt.figure(figsize=(5,3))\n",
    "plt.scatter(2020 - tt.value[:-10], np.log10(radec.distance.value)[:-10])\n",
    "plt.scatter(2020 - tt.value[-10:], np.log10(radec.distance.value)[-10:])\n",
    "plt.xscale('log')\n",
    "plt.ylabel('log dist (pc)')\n",
    "plt.xlabel('Years Ago')\n",
    "plt.show()\n",
    "\n",
    "print(max(tt))"
   ]
  },
  {
   "cell_type": "code",
   "execution_count": 5,
   "metadata": {},
   "outputs": [],
   "source": [
    "# generate errors & time ranges for the fake sources\n",
    "# assume 0 error in (RA, Dec) at present, but easy to add in later w/ monte carlo on separations\n",
    "\n",
    "# make broad guesses right now at distance errors. 3% for novae, 8% for SNe?\n",
    "dd1_err = dd1 * 0.03 \n",
    "dd2_err = dd2 * 0.08\n",
    "dd_err = np.concatenate((dd1_err,dd2_err))\n",
    "\n",
    "# make Novae have 5 day time ranges, SNe 30 day\n",
    "trng1 = np.ones_like(tt1) * 5/365 * u.day\n",
    "trng2 = np.ones_like(tt2) * 30/365 * u.day\n",
    "trng = np.concatenate((trng1,trng2))\n"
   ]
  },
  {
   "cell_type": "markdown",
   "metadata": {},
   "source": [
    "# FAKE ALERTS\n",
    "Generate a LOT of alerts from a fictional observatory over a few year period\n",
    "\n",
    "start with 1M alerts. An annoyingly large #, but not crushing big\n",
    "\n",
    "start with a very non-realistic distribution of events uniformly across the sky. \n",
    "\n",
    "Improve if needed (unlikely?) Maybe to estimate false positive rate?\n",
    "\n",
    "goal is to generalize functions to put into an *actual* piece of code, run on ZTF (and someday LSST)"
   ]
  },
  {
   "cell_type": "code",
   "execution_count": 6,
   "metadata": {},
   "outputs": [
    {
     "name": "stderr",
     "output_type": "stream",
     "text": [
      "WARNING: ErfaWarning: ERFA function \"dtf2d\" yielded 300035 of \"dubious year (Note 6)\" [astropy._erfa.core]\n",
      "WARNING: ErfaWarning: ERFA function \"dtf2d\" yielded 399851 of \"dubious year (Note 6)\" [astropy._erfa.core]\n",
      "WARNING: ErfaWarning: ERFA function \"utctai\" yielded 399851 of \"dubious year (Note 3)\" [astropy._erfa.core]\n",
      "WARNING: ErfaWarning: ERFA function \"utctai\" yielded 300035 of \"dubious year (Note 3)\" [astropy._erfa.core]\n",
      "WARNING: ErfaWarning: ERFA function \"taiutc\" yielded 300316 of \"dubious year (Note 4)\" [astropy._erfa.core]\n"
     ]
    }
   ],
   "source": [
    "Nalert = 1000000 # start w/ 1M\n",
    "\n",
    "# this isn't an especially realistic distribution of alerts...\n",
    "ra_i = np.random.uniform(low=0, high=360, size=Nalert) * u.deg\n",
    "dec_i = np.random.uniform(low=-20, high=90, size=Nalert) * u.deg\n",
    "\n",
    "# gaussian distribution in (dist). Most stuff at a few kpc\n",
    "dd_i = (np.abs(np.random.normal(loc=6e3, scale=1.7e3, size=Nalert)) + 25) * u.pc\n",
    "\n",
    "# a decade of observations\n",
    "tt_i = Time(np.random.uniform(low=2018, high=2028, size=Nalert), format='decimalyear')\n",
    "\n",
    "# make 3D coordinate\n",
    "c_i = SkyCoord(ra_i, dec_i, distance=dd_i)"
   ]
  },
  {
   "cell_type": "code",
   "execution_count": 7,
   "metadata": {},
   "outputs": [
    {
     "data": {
      "image/png": "[encoded data removed]",
      "text/plain": [
       "<Figure size 432x288 with 1 Axes>"
      ]
     },
     "metadata": {
      "needs_background": "light"
     },
     "output_type": "display_data"
    }
   ],
   "source": [
    "_ = plt.hist(dd_i.value,bins=100)\n",
    "# plt.yscale('log')"
   ]
  },
  {
   "cell_type": "code",
   "execution_count": 8,
   "metadata": {},
   "outputs": [],
   "source": [
    "# generate errors & time ranges for the fake alerts\n",
    "# also no (ra,dec) error, but def should add!\n",
    "\n",
    "# let's just use 3% errors for distances of alerts right now\n",
    "dd_i_err = dd_i * 0.03\n",
    "\n",
    "# no time error for alerts, yet...\n",
    "# our measurment of NOW is too precise, and we don't know the alert profile in the moment"
   ]
  },
  {
   "cell_type": "markdown",
   "metadata": {},
   "source": [
    "# Do Ellipse Search\n",
    "\n",
    "- Go through each Source event (since that's smaller # to loop over)\n",
    "- compute 3D separation from source to all alerts\n",
    "- compute 4D ellipse from source to all alerts \n",
    "- do we have any intersections?"
   ]
  },
  {
   "cell_type": "code",
   "execution_count": 9,
   "metadata": {},
   "outputs": [],
   "source": [
    "# # d1 error (dist to alerts)\n",
    "# dd_i_err[OYES_i].to('lyr')\n",
    "\n",
    "# # d2 error: (dist between alert and source)\n",
    "# np.sqrt((dd_err[k].to('lyr')/2)**2 + (dd_i_err[OYES_i].to('lyr'))**2)\n",
    "\n",
    "# # a error (mostly dist to source):\n",
    "# dd_err[k].to('lyr')\n",
    "\n",
    "# # a range, from dt +/- time range\n",
    "# # a = (((dt.to('s') * const.c) / 2) + c).to('lyr')\n",
    "# # ((trng[k] + dt.to('s')) * const.c).to('lyr')\n",
    "\n",
    "# # -> time range of days (even a month) is << 1 lyr (of course), \n",
    "# # and is thus dwarfed by distance uncertainties for most stars"
   ]
  },
  {
   "cell_type": "code",
   "execution_count": 20,
   "metadata": {
    "scrolled": false
   },
   "outputs": [
    {
     "name": "stdout",
     "output_type": "stream",
     "text": [
      "0 00:39:40.527  376.19 20926.357921004124 pc 7\n",
      "1 00:39:42.535  393.16 16449.967402325652 pc 0\n",
      "2 00:39:44.476  519.52 3498.962409955723 pc 0\n",
      "3 00:39:46.335  548.78 20172.539933587163 pc 4\n",
      "4 00:39:48.266 1348.60 19001.708099219333 pc 8\n",
      "5 00:39:50.097 1436.28 36095.78478200441 pc 0\n",
      "6 00:39:51.962 1444.44 10346.148375655746 pc 8\n",
      "7 00:39:53.800 1515.14 39375.9654592171 pc 0\n",
      "8 00:39:55.742 1527.54 11340.2399400615 pc 2\n",
      "9 00:39:57.567 1662.39 27747.921259786315 pc 0\n",
      "10 00:39:59.412 1941.11 4651.799699295076 pc 1\n",
      "11 00:40:01.254 1941.36 2595.701434346136 pc 0\n",
      "12 00:40:03.199 1942.11 4968.343202619116 pc 0\n",
      "13 00:40:05.140 1943.38 5216.709698140952 pc 2\n",
      "14 00:40:07.033 1949.65 5103.772806273524 pc 1\n",
      "15 00:40:08.933 1950.67 5104.281798590232 pc 2\n",
      "16 00:40:10.779 1951.13 1723.1700195166152 pc 0\n",
      "17 00:40:12.632 1953.43 2237.624274349087 pc 0\n",
      "18 00:40:14.490 1954.95 2457.0694410869955 pc 0\n",
      "19 00:40:16.345 1956.64 1794.1697203847273 pc 0\n",
      "20 00:40:18.188 1956.85 4400.099777097923 pc 1\n",
      "21 00:40:20.041 1957.29 2887.5997485881107 pc 2\n",
      "22 00:40:21.882 1958.02 2105.941122726188 pc 0\n",
      "23 00:40:23.744 1958.40 1213.1251824278734 pc 0\n",
      "24 00:40:25.586 1959.99 4574.034940462258 pc 0\n",
      "25 00:40:27.479 1972.66 1112.375282331501 pc 0\n",
      "26 00:40:29.308 1972.88 553.8873506578885 pc 0\n",
      "27 00:40:31.188 1982.90 1617.903979758206 pc 0\n",
      "28 00:40:33.057 1982.96 2355.1466421910795 pc 0\n",
      "29 00:40:34.932 1984.27 5053.35652075827 pc 0\n",
      "30 00:40:36.787 1985.18 4750.334649426201 pc 0\n",
      "31 00:40:38.659 1986.08 5264.681088448798 pc 2\n",
      "32 00:40:40.565 1986.23 707.5706216741975 pc 0\n",
      "33 00:40:42.490 1987.52 1616.8147408019674 pc 0\n",
      "34 00:40:44.374 1987.99 1831.0778392086884 pc 0\n",
      "35 00:40:46.256 1988.89 5118.0852751662405 pc 2\n",
      "36 00:40:48.096 1992.43 2135.1976167752173 pc 0\n",
      "37 00:40:49.916 1992.62 1438.873268864026 pc 0\n",
      "38 00:40:51.725 1995.17 2868.733828404471 pc 0\n",
      "39 00:40:53.583 1996.47 1118.0251250595184 pc 0\n",
      "40 00:40:55.460 1996.90 1861.8645335446506 pc 0\n",
      "41 00:40:57.334 1998.03 1957.0517717707316 pc 0\n",
      "42 00:40:59.183 2001.97 1487.9770707606367 pc 0\n",
      "43 00:41:01.021 2002.57 3868.9375334026086 pc 0\n",
      "44 00:41:02.874 2004.61 5408.080750331653 pc 0\n",
      "45 00:41:04.709 2010.69 2672.088568335458 pc 1\n",
      "46 00:41:06.556 2011.10 1690.5583254028961 pc 0\n",
      "47 00:41:08.400 2013.00 785.8857218710641 pc 1\n",
      "48 00:41:10.269 2013.83 4279.892530116247 pc 0\n",
      "49 00:41:12.146 2015.69 2058.369559726127 pc 0\n"
     ]
    }
   ],
   "source": [
    "etol = 0.1 # ellipse tolerance (in lyr)\n",
    "\n",
    "d1 = c_i.distance.to('lyr').value # dist to alert stars (from Gaia, presumably)\n",
    "\n",
    "i=0\n",
    "# go in time order, oldest event to newest\n",
    "tsort = np.argsort(tt.value)\n",
    "for k in tsort:    \n",
    "    dt = tt_i - tt[k] # time diff from this Source to the alerts\n",
    "\n",
    "    c = c1[k].distance.to('lyr') / 2 # the Source foci distance\n",
    "    a = (((dt.to('s') * const.c) / 2) + c).to('lyr') # the semi-major axis of Source ellipse\n",
    "    d2 = c_i.separation_3d(radec[k]) # 3D dist (in lyr) between alerts and Sources\n",
    "\n",
    "    # candidates have distances within the ellipse tolerance, and positive time deltas\n",
    "    # the latter is important for running this thru archives that may pre-date source events\n",
    "    OYES_i = (np.abs((d1 + d2.to('lyr').value) - (2 * a.to('lyr').value)) <= etol) & (dt > 0)\n",
    "\n",
    "    print(i, Time.now().iso[11:], format(tt[k].value, '7.2f'), radec.distance[k], sum(OYES_i))\n",
    "    i += 1"
   ]
  },
  {
   "cell_type": "code",
   "execution_count": 21,
   "metadata": {},
   "outputs": [
    {
     "data": {
      "text/plain": [
       "[<matplotlib.lines.Line2D at 0x7ff6cbac0700>]"
      ]
     },
     "execution_count": 21,
     "metadata": {},
     "output_type": "execute_result"
    },
    {
     "data": {
      "image/png": "[encoded data removed]",
      "text/plain": [
       "<Figure size 432x288 with 1 Axes>"
      ]
     },
     "metadata": {
      "needs_background": "light"
     },
     "output_type": "display_data"
    }
   ],
   "source": [
    "_ = plt.hist(np.log10(np.abs((d1 + d2.to('lyr').value) - (2 * a.to('lyr').value))),bins=100)\n",
    "plt.yscale('log')\n",
    "plt.xlabel('| (D1 + D2) - 2a | [log lyr]')\n",
    "\n",
    "plt.plot([np.log10(etol), np.log10(etol)],[0.1,1e5])"
   ]
  },
  {
   "cell_type": "code",
   "execution_count": 13,
   "metadata": {},
   "outputs": [],
   "source": [
    "# OYES_i = np.abs((d1 + d2.to('lyr').value) - (2 * a.to('lyr').value)) <= etol\n",
    "# print(d1[OYES_i], d2.to('lyr').value[OYES_i], radec[k].distance,(2 * a.to('lyr').value)[OYES_i])\n",
    "# print((d1[OYES_i] + d2.to('lyr').value[OYES_i]) - (2 * a.to('lyr').value)[OYES_i])"
   ]
  },
  {
   "cell_type": "markdown",
   "metadata": {},
   "source": [
    "in real production mode: \n",
    "- we'll have uncertainties on observables for the alerts, \n",
    "- should include errors or ranges for the source events (e.g. SNe aren't point-in-time events). \n",
    "- I need to add this to my simulation now to get a sense of impact on tolerance factor for coarse match step. \n",
    "    - One way to do this is to pick a bigger than wanted tolerance for coarse match \n",
    "    - then if some errors don't propgate nicely we can do simple monte carlo for the matches to get better uncertainties (e.g. D2 won't have easy error propgation, I think, but maybe can be done approximately adding both D1 and C errors togeather)\n",
    "\n",
    "- dwarf novae should be 2-20 days\n",
    "- SNe should be ~30 days\n"
   ]
  },
  {
   "cell_type": "code",
   "execution_count": null,
   "metadata": {},
   "outputs": [],
   "source": []
  }
 ],
 "metadata": {
  "kernelspec": {
   "display_name": "Python 3",
   "language": "python",
   "name": "python3"
  },
  "language_info": {
   "codemirror_mode": {
    "name": "ipython",
    "version": 3
   },
   "file_extension": ".py",
   "mimetype": "text/x-python",
   "name": "python",
   "nbconvert_exporter": "python",
   "pygments_lexer": "ipython3",
   "version": "3.8.5"
  }
 },
 "nbformat": 4,
 "nbformat_minor": 4
}
